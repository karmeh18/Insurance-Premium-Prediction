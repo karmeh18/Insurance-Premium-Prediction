{
 "cells": [
  {
   "cell_type": "code",
   "execution_count": 1,
   "id": "0cddbea5",
   "metadata": {},
   "outputs": [],
   "source": [
    "import pandas as pd\n",
    "import numpy as np\n",
    "import matplotlib.pyplot as plt\n",
    "import seaborn as sns\n",
    "import warnings\n",
    "warnings.filterwarnings('ignore')\n",
    "\n",
    "from sklearn.preprocessing import StandardScaler, MinMaxScaler, LabelEncoder\n",
    "from sklearn.model_selection import train_test_split\n",
    "from category_encoders import TargetEncoder\n",
    "from sklearn.pipeline import Pipeline\n",
    "from sklearn.compose import ColumnTransformer\n",
    "\n",
    "from sklearn.linear_model import LinearRegression\n",
    "from sklearn.tree import DecisionTreeRegressor\n",
    "from sklearn.ensemble import RandomForestRegressor\n",
    "\n",
    "from sklearn.metrics import r2_score"
   ]
  },
  {
   "cell_type": "code",
   "execution_count": 2,
   "id": "bdf955ae",
   "metadata": {},
   "outputs": [
    {
     "data": {
      "text/html": [
       "<div>\n",
       "<style scoped>\n",
       "    .dataframe tbody tr th:only-of-type {\n",
       "        vertical-align: middle;\n",
       "    }\n",
       "\n",
       "    .dataframe tbody tr th {\n",
       "        vertical-align: top;\n",
       "    }\n",
       "\n",
       "    .dataframe thead th {\n",
       "        text-align: right;\n",
       "    }\n",
       "</style>\n",
       "<table border=\"1\" class=\"dataframe\">\n",
       "  <thead>\n",
       "    <tr style=\"text-align: right;\">\n",
       "      <th></th>\n",
       "      <th>age</th>\n",
       "      <th>gender</th>\n",
       "      <th>bmi</th>\n",
       "      <th>children</th>\n",
       "      <th>smoker</th>\n",
       "      <th>region</th>\n",
       "      <th>medical_history</th>\n",
       "      <th>family_medical_history</th>\n",
       "      <th>exercise_frequency</th>\n",
       "      <th>occupation</th>\n",
       "      <th>coverage_level</th>\n",
       "      <th>charges</th>\n",
       "    </tr>\n",
       "  </thead>\n",
       "  <tbody>\n",
       "    <tr>\n",
       "      <th>0</th>\n",
       "      <td>46</td>\n",
       "      <td>male</td>\n",
       "      <td>21.45</td>\n",
       "      <td>5</td>\n",
       "      <td>yes</td>\n",
       "      <td>southeast</td>\n",
       "      <td>Diabetes</td>\n",
       "      <td>None</td>\n",
       "      <td>Never</td>\n",
       "      <td>Blue collar</td>\n",
       "      <td>Premium</td>\n",
       "      <td>20460.307669</td>\n",
       "    </tr>\n",
       "    <tr>\n",
       "      <th>1</th>\n",
       "      <td>25</td>\n",
       "      <td>female</td>\n",
       "      <td>25.38</td>\n",
       "      <td>2</td>\n",
       "      <td>yes</td>\n",
       "      <td>northwest</td>\n",
       "      <td>Diabetes</td>\n",
       "      <td>High blood pressure</td>\n",
       "      <td>Occasionally</td>\n",
       "      <td>White collar</td>\n",
       "      <td>Premium</td>\n",
       "      <td>20390.899218</td>\n",
       "    </tr>\n",
       "    <tr>\n",
       "      <th>2</th>\n",
       "      <td>38</td>\n",
       "      <td>male</td>\n",
       "      <td>44.88</td>\n",
       "      <td>2</td>\n",
       "      <td>yes</td>\n",
       "      <td>southwest</td>\n",
       "      <td>None</td>\n",
       "      <td>High blood pressure</td>\n",
       "      <td>Occasionally</td>\n",
       "      <td>Blue collar</td>\n",
       "      <td>Premium</td>\n",
       "      <td>20204.476302</td>\n",
       "    </tr>\n",
       "    <tr>\n",
       "      <th>3</th>\n",
       "      <td>25</td>\n",
       "      <td>male</td>\n",
       "      <td>19.89</td>\n",
       "      <td>0</td>\n",
       "      <td>no</td>\n",
       "      <td>northwest</td>\n",
       "      <td>None</td>\n",
       "      <td>Diabetes</td>\n",
       "      <td>Rarely</td>\n",
       "      <td>White collar</td>\n",
       "      <td>Standard</td>\n",
       "      <td>11789.029843</td>\n",
       "    </tr>\n",
       "    <tr>\n",
       "      <th>4</th>\n",
       "      <td>49</td>\n",
       "      <td>male</td>\n",
       "      <td>38.21</td>\n",
       "      <td>3</td>\n",
       "      <td>yes</td>\n",
       "      <td>northwest</td>\n",
       "      <td>Diabetes</td>\n",
       "      <td>High blood pressure</td>\n",
       "      <td>Rarely</td>\n",
       "      <td>White collar</td>\n",
       "      <td>Standard</td>\n",
       "      <td>19268.309838</td>\n",
       "    </tr>\n",
       "    <tr>\n",
       "      <th>...</th>\n",
       "      <td>...</td>\n",
       "      <td>...</td>\n",
       "      <td>...</td>\n",
       "      <td>...</td>\n",
       "      <td>...</td>\n",
       "      <td>...</td>\n",
       "      <td>...</td>\n",
       "      <td>...</td>\n",
       "      <td>...</td>\n",
       "      <td>...</td>\n",
       "      <td>...</td>\n",
       "      <td>...</td>\n",
       "    </tr>\n",
       "    <tr>\n",
       "      <th>999995</th>\n",
       "      <td>59</td>\n",
       "      <td>male</td>\n",
       "      <td>46.67</td>\n",
       "      <td>2</td>\n",
       "      <td>no</td>\n",
       "      <td>northeast</td>\n",
       "      <td>High blood pressure</td>\n",
       "      <td>None</td>\n",
       "      <td>Frequently</td>\n",
       "      <td>Student</td>\n",
       "      <td>Basic</td>\n",
       "      <td>11584.134900</td>\n",
       "    </tr>\n",
       "    <tr>\n",
       "      <th>999996</th>\n",
       "      <td>33</td>\n",
       "      <td>male</td>\n",
       "      <td>36.83</td>\n",
       "      <td>2</td>\n",
       "      <td>no</td>\n",
       "      <td>northeast</td>\n",
       "      <td>None</td>\n",
       "      <td>High blood pressure</td>\n",
       "      <td>Frequently</td>\n",
       "      <td>Unemployed</td>\n",
       "      <td>Basic</td>\n",
       "      <td>9834.871456</td>\n",
       "    </tr>\n",
       "    <tr>\n",
       "      <th>999997</th>\n",
       "      <td>39</td>\n",
       "      <td>male</td>\n",
       "      <td>39.84</td>\n",
       "      <td>0</td>\n",
       "      <td>yes</td>\n",
       "      <td>northeast</td>\n",
       "      <td>Heart disease</td>\n",
       "      <td>High blood pressure</td>\n",
       "      <td>Rarely</td>\n",
       "      <td>Blue collar</td>\n",
       "      <td>Standard</td>\n",
       "      <td>22076.632856</td>\n",
       "    </tr>\n",
       "    <tr>\n",
       "      <th>999998</th>\n",
       "      <td>37</td>\n",
       "      <td>female</td>\n",
       "      <td>45.06</td>\n",
       "      <td>4</td>\n",
       "      <td>yes</td>\n",
       "      <td>northeast</td>\n",
       "      <td>High blood pressure</td>\n",
       "      <td>Diabetes</td>\n",
       "      <td>Occasionally</td>\n",
       "      <td>Unemployed</td>\n",
       "      <td>Premium</td>\n",
       "      <td>20297.618728</td>\n",
       "    </tr>\n",
       "    <tr>\n",
       "      <th>999999</th>\n",
       "      <td>41</td>\n",
       "      <td>male</td>\n",
       "      <td>30.02</td>\n",
       "      <td>2</td>\n",
       "      <td>yes</td>\n",
       "      <td>northeast</td>\n",
       "      <td>Diabetes</td>\n",
       "      <td>Heart disease</td>\n",
       "      <td>Occasionally</td>\n",
       "      <td>Blue collar</td>\n",
       "      <td>Standard</td>\n",
       "      <td>23429.725030</td>\n",
       "    </tr>\n",
       "  </tbody>\n",
       "</table>\n",
       "<p>1000000 rows × 12 columns</p>\n",
       "</div>"
      ],
      "text/plain": [
       "        age  gender    bmi  children smoker     region      medical_history  \\\n",
       "0        46    male  21.45         5    yes  southeast             Diabetes   \n",
       "1        25  female  25.38         2    yes  northwest             Diabetes   \n",
       "2        38    male  44.88         2    yes  southwest                 None   \n",
       "3        25    male  19.89         0     no  northwest                 None   \n",
       "4        49    male  38.21         3    yes  northwest             Diabetes   \n",
       "...     ...     ...    ...       ...    ...        ...                  ...   \n",
       "999995   59    male  46.67         2     no  northeast  High blood pressure   \n",
       "999996   33    male  36.83         2     no  northeast                 None   \n",
       "999997   39    male  39.84         0    yes  northeast        Heart disease   \n",
       "999998   37  female  45.06         4    yes  northeast  High blood pressure   \n",
       "999999   41    male  30.02         2    yes  northeast             Diabetes   \n",
       "\n",
       "       family_medical_history exercise_frequency    occupation coverage_level  \\\n",
       "0                        None              Never   Blue collar        Premium   \n",
       "1         High blood pressure       Occasionally  White collar        Premium   \n",
       "2         High blood pressure       Occasionally   Blue collar        Premium   \n",
       "3                    Diabetes             Rarely  White collar       Standard   \n",
       "4         High blood pressure             Rarely  White collar       Standard   \n",
       "...                       ...                ...           ...            ...   \n",
       "999995                   None         Frequently       Student          Basic   \n",
       "999996    High blood pressure         Frequently    Unemployed          Basic   \n",
       "999997    High blood pressure             Rarely   Blue collar       Standard   \n",
       "999998               Diabetes       Occasionally    Unemployed        Premium   \n",
       "999999          Heart disease       Occasionally   Blue collar       Standard   \n",
       "\n",
       "             charges  \n",
       "0       20460.307669  \n",
       "1       20390.899218  \n",
       "2       20204.476302  \n",
       "3       11789.029843  \n",
       "4       19268.309838  \n",
       "...              ...  \n",
       "999995  11584.134900  \n",
       "999996   9834.871456  \n",
       "999997  22076.632856  \n",
       "999998  20297.618728  \n",
       "999999  23429.725030  \n",
       "\n",
       "[1000000 rows x 12 columns]"
      ]
     },
     "execution_count": 2,
     "metadata": {},
     "output_type": "execute_result"
    }
   ],
   "source": [
    "df=pd.read_csv('C:\\\\Users\\\\Karan\\\\Desktop\\\\Data\\\\insurance_dataset\\\\insurance_dataset.csv')\n",
    "df"
   ]
  },
  {
   "cell_type": "markdown",
   "id": "20d148bb",
   "metadata": {},
   "source": [
    "1. In this data we have over a million observations and 12 columns.\n",
    "2. The data was previously cleaned with no missing values while the data was getting transferred from sql database to excel file"
   ]
  },
  {
   "cell_type": "code",
   "execution_count": 3,
   "id": "e45c950f",
   "metadata": {},
   "outputs": [
    {
     "data": {
      "text/plain": [
       "age                       0\n",
       "gender                    0\n",
       "bmi                       0\n",
       "children                  0\n",
       "smoker                    0\n",
       "region                    0\n",
       "medical_history           0\n",
       "family_medical_history    0\n",
       "exercise_frequency        0\n",
       "occupation                0\n",
       "coverage_level            0\n",
       "charges                   0\n",
       "dtype: int64"
      ]
     },
     "execution_count": 3,
     "metadata": {},
     "output_type": "execute_result"
    }
   ],
   "source": [
    "df.isnull().sum()"
   ]
  },
  {
   "cell_type": "code",
   "execution_count": 4,
   "id": "eea36281",
   "metadata": {},
   "outputs": [
    {
     "data": {
      "text/plain": [
       "['smoker',\n",
       " 'region',\n",
       " 'medical_history',\n",
       " 'family_medical_history',\n",
       " 'exercise_frequency',\n",
       " 'occupation',\n",
       " 'coverage_level']"
      ]
     },
     "execution_count": 4,
     "metadata": {},
     "output_type": "execute_result"
    }
   ],
   "source": [
    "cat_cols=['smoker',\n",
    " 'region',\n",
    " 'medical_history',\n",
    " 'family_medical_history',\n",
    " 'exercise_frequency',\n",
    " 'occupation',\n",
    " 'coverage_level']\n",
    "cat_cols"
   ]
  },
  {
   "cell_type": "code",
   "execution_count": 30,
   "id": "494e66e5",
   "metadata": {},
   "outputs": [
    {
     "data": {
      "image/png": "[encoded data removed]",
      "text/plain": [
       "<Figure size 1500x600 with 7 Axes>"
      ]
     },
     "metadata": {},
     "output_type": "display_data"
    }
   ],
   "source": [
    "import seaborn as sns\n",
    "import matplotlib.pyplot as plt\n",
    "import pandas as pd\n",
    "\n",
    "# Create subplots dynamically based on the number of columns\n",
    "n_cols = len(cat_cols)\n",
    "n_rows = (n_cols - 1) // 4 + 1  # Calculate the number of rows needed\n",
    "fig, axes = plt.subplots(nrows=n_rows, ncols=4, figsize=(15, 6))\n",
    "fig.suptitle('Barplot of 7 Different Columns')\n",
    "\n",
    "# Flatten the axes for easier iteration\n",
    "axes = axes.flatten()\n",
    "\n",
    "# Create barplots for each column\n",
    "for i, col in enumerate(cat_cols):\n",
    "    sns.barplot(x=df[col], y=df[\"charges\"],hue=df['gender'] ,ax=axes[i])  # Assuming index as x-axis\n",
    "    axes[i].set_title(f'{col}')\n",
    "\n",
    "# Adjust layout\n",
    "plt.tight_layout(rect=[0, 0, 1, 0.95])\n",
    "\n",
    "# Remove any remaining empty subplots\n",
    "if n_cols < len(axes):\n",
    "    for i in range(n_cols, len(axes)):\n",
    "        fig.delaxes(axes[i])\n",
    "\n",
    "# Show the plots\n",
    "plt.show()\n"
   ]
  },
  {
   "cell_type": "code",
   "execution_count": 8,
   "id": "d43f9e05",
   "metadata": {},
   "outputs": [
    {
     "data": {
      "text/plain": [
       "{'gender': ['male', 'female'],\n",
       " 'smoker': ['yes', 'no'],\n",
       " 'region': ['southeast', 'northwest', 'southwest', 'northeast'],\n",
       " 'medical_history': ['Diabetes',\n",
       "  'None',\n",
       "  'High blood pressure',\n",
       "  'Heart disease'],\n",
       " 'family_medical_history': ['None',\n",
       "  'High blood pressure',\n",
       "  'Diabetes',\n",
       "  'Heart disease'],\n",
       " 'exercise_frequency': ['Never', 'Occasionally', 'Rarely', 'Frequently'],\n",
       " 'occupation': ['Blue collar', 'White collar', 'Student', 'Unemployed'],\n",
       " 'coverage_level': ['Premium', 'Standard', 'Basic']}"
      ]
     },
     "execution_count": 8,
     "metadata": {},
     "output_type": "execute_result"
    }
   ],
   "source": [
    "cat_cat={}\n",
    "for i in cat_cols:\n",
    "    categories=df[i].unique()\n",
    "    cat_cat[i]=list(categories)\n",
    "cat_cat"
   ]
  },
  {
   "cell_type": "code",
   "execution_count": 26,
   "id": "fceba0bc",
   "metadata": {},
   "outputs": [
    {
     "data": {
      "text/plain": [
       "{'gender': ['male', 'female'],\n",
       " 'smoker': ['yes', 'no'],\n",
       " 'region': ['southeast', 'northwest', 'southwest', 'northeast'],\n",
       " 'medical_history': ['Diabetes',\n",
       "  'None',\n",
       "  'High blood pressure',\n",
       "  'Heart disease'],\n",
       " 'family_medical_history': ['None',\n",
       "  'High blood pressure',\n",
       "  'Diabetes',\n",
       "  'Heart disease'],\n",
       " 'exercise_frequency': ['Never', 'Occasionally', 'Rarely', 'Frequently'],\n",
       " 'occupation': ['Blue collar', 'White collar', 'Student', 'Unemployed'],\n",
       " 'coverage_level': ['Premium', 'Standard', 'Basic']}"
      ]
     },
     "execution_count": 26,
     "metadata": {},
     "output_type": "execute_result"
    }
   ],
   "source": [
    "cat_cat"
   ]
  },
  {
   "cell_type": "code",
   "execution_count": 34,
   "id": "34e1f57c",
   "metadata": {},
   "outputs": [
    {
     "data": {
      "text/plain": [
       "count    1000000.000000\n",
       "mean          34.001839\n",
       "std            9.231680\n",
       "min           18.000000\n",
       "25%           26.020000\n",
       "50%           34.000000\n",
       "75%           41.990000\n",
       "max           50.000000\n",
       "Name: bmi, dtype: float64"
      ]
     },
     "execution_count": 34,
     "metadata": {},
     "output_type": "execute_result"
    }
   ],
   "source": [
    "df.head()\n",
    "df['bmi'].describe()"
   ]
  },
  {
   "cell_type": "code",
   "execution_count": 42,
   "id": "b7b4b5fe",
   "metadata": {},
   "outputs": [
    {
     "data": {
      "text/plain": [
       "(48,)"
      ]
     },
     "execution_count": 42,
     "metadata": {},
     "output_type": "execute_result"
    }
   ],
   "source": [
    "df.isnull().sum()\n",
    "df['age'].unique()"
   ]
  },
  {
   "cell_type": "code",
   "execution_count": 46,
   "id": "f311ed4e",
   "metadata": {},
   "outputs": [
    {
     "data": {
      "image/png": "[encoded data removed]",
      "text/plain": [
       "<Figure size 640x480 with 1 Axes>"
      ]
     },
     "metadata": {},
     "output_type": "display_data"
    }
   ],
   "source": [
    "sns.histplot(df['age'], bins=20, kde=True)\n",
    "plt.title('Distribution of Age')\n",
    "plt.xlabel('Age')\n",
    "plt.ylabel('Frequency')\n",
    "plt.show()"
   ]
  },
  {
   "cell_type": "code",
   "execution_count": 35,
   "id": "f46ec11e",
   "metadata": {},
   "outputs": [
    {
     "data": {
      "image/png": "[encoded data removed]",
      "text/plain": [
       "<Figure size 640x480 with 1 Axes>"
      ]
     },
     "metadata": {},
     "output_type": "display_data"
    }
   ],
   "source": [
    "sns.distplot(df['charges']);"
   ]
  },
  {
   "cell_type": "code",
   "execution_count": 44,
   "id": "690f07c3",
   "metadata": {},
   "outputs": [
    {
     "data": {
      "text/html": [
       "<div>\n",
       "<style scoped>\n",
       "    .dataframe tbody tr th:only-of-type {\n",
       "        vertical-align: middle;\n",
       "    }\n",
       "\n",
       "    .dataframe tbody tr th {\n",
       "        vertical-align: top;\n",
       "    }\n",
       "\n",
       "    .dataframe thead th {\n",
       "        text-align: right;\n",
       "    }\n",
       "</style>\n",
       "<table border=\"1\" class=\"dataframe\">\n",
       "  <thead>\n",
       "    <tr style=\"text-align: right;\">\n",
       "      <th></th>\n",
       "      <th>age</th>\n",
       "      <th>bmi</th>\n",
       "      <th>children</th>\n",
       "      <th>charges</th>\n",
       "    </tr>\n",
       "  </thead>\n",
       "  <tbody>\n",
       "    <tr>\n",
       "      <th>count</th>\n",
       "      <td>1000000.000000</td>\n",
       "      <td>1000000.000000</td>\n",
       "      <td>1000000.000000</td>\n",
       "      <td>1000000.000000</td>\n",
       "    </tr>\n",
       "    <tr>\n",
       "      <th>mean</th>\n",
       "      <td>41.495282</td>\n",
       "      <td>34.001839</td>\n",
       "      <td>2.499886</td>\n",
       "      <td>16735.117481</td>\n",
       "    </tr>\n",
       "    <tr>\n",
       "      <th>std</th>\n",
       "      <td>13.855189</td>\n",
       "      <td>9.231680</td>\n",
       "      <td>1.707679</td>\n",
       "      <td>4415.808211</td>\n",
       "    </tr>\n",
       "    <tr>\n",
       "      <th>min</th>\n",
       "      <td>18.000000</td>\n",
       "      <td>18.000000</td>\n",
       "      <td>0.000000</td>\n",
       "      <td>3445.011643</td>\n",
       "    </tr>\n",
       "    <tr>\n",
       "      <th>25%</th>\n",
       "      <td>29.000000</td>\n",
       "      <td>26.020000</td>\n",
       "      <td>1.000000</td>\n",
       "      <td>13600.372379</td>\n",
       "    </tr>\n",
       "    <tr>\n",
       "      <th>50%</th>\n",
       "      <td>41.000000</td>\n",
       "      <td>34.000000</td>\n",
       "      <td>2.000000</td>\n",
       "      <td>16622.127973</td>\n",
       "    </tr>\n",
       "    <tr>\n",
       "      <th>75%</th>\n",
       "      <td>53.000000</td>\n",
       "      <td>41.990000</td>\n",
       "      <td>4.000000</td>\n",
       "      <td>19781.465410</td>\n",
       "    </tr>\n",
       "    <tr>\n",
       "      <th>max</th>\n",
       "      <td>65.000000</td>\n",
       "      <td>50.000000</td>\n",
       "      <td>5.000000</td>\n",
       "      <td>32561.560374</td>\n",
       "    </tr>\n",
       "  </tbody>\n",
       "</table>\n",
       "</div>"
      ],
      "text/plain": [
       "                  age             bmi        children         charges\n",
       "count  1000000.000000  1000000.000000  1000000.000000  1000000.000000\n",
       "mean        41.495282       34.001839        2.499886    16735.117481\n",
       "std         13.855189        9.231680        1.707679     4415.808211\n",
       "min         18.000000       18.000000        0.000000     3445.011643\n",
       "25%         29.000000       26.020000        1.000000    13600.372379\n",
       "50%         41.000000       34.000000        2.000000    16622.127973\n",
       "75%         53.000000       41.990000        4.000000    19781.465410\n",
       "max         65.000000       50.000000        5.000000    32561.560374"
      ]
     },
     "execution_count": 44,
     "metadata": {},
     "output_type": "execute_result"
    }
   ],
   "source": [
    "df.describe()"
   ]
  },
  {
   "cell_type": "code",
   "execution_count": 5,
   "id": "818a0b6e",
   "metadata": {},
   "outputs": [],
   "source": [
    "X=df.drop('charges',axis=1)\n",
    "y=df['charges']"
   ]
  },
  {
   "cell_type": "code",
   "execution_count": 12,
   "id": "e0420033",
   "metadata": {},
   "outputs": [],
   "source": [
    "X_train, X_test, y_train, y_test = train_test_split(X, y, test_size=0.3, random_state=42)"
   ]
  },
  {
   "cell_type": "code",
   "execution_count": 9,
   "id": "bd587519",
   "metadata": {},
   "outputs": [],
   "source": [
    "num_cols=[]\n",
    "cat_cols=[]\n",
    "for columns in df.columns:\n",
    "    if df[columns].dtype in ['int64','float64']:\n",
    "        num_cols.append(columns)\n",
    "    else:\n",
    "        cat_cols.append(columns)"
   ]
  },
  {
   "cell_type": "code",
   "execution_count": 10,
   "id": "1e353d5c",
   "metadata": {},
   "outputs": [],
   "source": [
    "num_cols.remove('charges')"
   ]
  },
  {
   "cell_type": "code",
   "execution_count": 11,
   "id": "8ddd7d6e",
   "metadata": {},
   "outputs": [
    {
     "data": {
      "text/plain": [
       "['age', 'bmi', 'children']"
      ]
     },
     "execution_count": 11,
     "metadata": {},
     "output_type": "execute_result"
    }
   ],
   "source": [
    "cat_cols\n",
    "['gender',\n",
    " 'smoker',\n",
    " 'region',\n",
    " 'medical_history',\n",
    " 'family_medical_history',\n",
    " 'exercise_frequency',\n",
    " 'occupation',\n",
    " 'coverage_level']\n",
    "num_cols"
   ]
  },
  {
   "cell_type": "code",
   "execution_count": 13,
   "id": "7ed3fc77",
   "metadata": {},
   "outputs": [],
   "source": [
    "#Linear Regression with StandardScaler and LabelEncoder\n",
    "scaler=StandardScaler()\n",
    "for i in num_cols:\n",
    "    X_train[i]=scaler.fit_transform(X_train[[i]])\n",
    "    X_test[i]=scaler.fit_transform(X_test[[i]])"
   ]
  },
  {
   "cell_type": "code",
   "execution_count": 14,
   "id": "a5bed8eb",
   "metadata": {},
   "outputs": [],
   "source": [
    "le=LabelEncoder()\n",
    "for i in cat_cols:\n",
    "    X_train[i]=le.fit_transform(X_train[i])\n",
    "    X_test[i]=le.fit_transform(X_test[i])"
   ]
  },
  {
   "cell_type": "code",
   "execution_count": 15,
   "id": "749b22cd",
   "metadata": {},
   "outputs": [
    {
     "data": {
      "text/plain": [
       "0.5280007842569115"
      ]
     },
     "execution_count": 15,
     "metadata": {},
     "output_type": "execute_result"
    }
   ],
   "source": [
    "lr=LinearRegression()\n",
    "lr.fit(X_train,y_train)\n",
    "pred=lr.predict(X_test)\n",
    "r2_score(y_test,pred)"
   ]
  },
  {
   "cell_type": "markdown",
   "id": "2048c17c",
   "metadata": {},
   "source": [
    "As you can see the results the output from the Linear Regression with Standardization and Linear Regression is coming at around 52.08%"
   ]
  },
  {
   "cell_type": "code",
   "execution_count": 16,
   "id": "4bbe4386",
   "metadata": {},
   "outputs": [
    {
     "data": {
      "text/plain": [
       "0.528001012070777"
      ]
     },
     "execution_count": 16,
     "metadata": {},
     "output_type": "execute_result"
    }
   ],
   "source": [
    "#Linear Regression with Normalization and LabelEncodeabsr\n",
    "X_train, X_test, y_train, y_test = train_test_split(X, y, test_size=0.3, random_state=42)\n",
    "scaler=MinMaxScaler()\n",
    "for i in num_cols:\n",
    "    X_train[i]=scaler.fit_transform(X_train[[i]])\n",
    "    X_test[i]=scaler.fit_transform(X_test[[i]])\n",
    "    \n",
    "le=LabelEncoder()\n",
    "for i in cat_cols:\n",
    "    X_train[i]=le.fit_transform(X_train[i])\n",
    "    X_test[i]=le.fit_transform(X_test[i])\n",
    "    \n",
    "lr=LinearRegression()\n",
    "lr.fit(X_train,y_train)\n",
    "pred=lr.predict(X_test)\n",
    "r2_score(y_test,pred)"
   ]
  },
  {
   "cell_type": "markdown",
   "id": "57916df8",
   "metadata": {},
   "source": [
    "The same thing can be observed with Normalization and Label Encoder"
   ]
  },
  {
   "cell_type": "code",
   "execution_count": 65,
   "id": "2ab7ac89",
   "metadata": {},
   "outputs": [
    {
     "data": {
      "text/html": [
       "<div>\n",
       "<style scoped>\n",
       "    .dataframe tbody tr th:only-of-type {\n",
       "        vertical-align: middle;\n",
       "    }\n",
       "\n",
       "    .dataframe tbody tr th {\n",
       "        vertical-align: top;\n",
       "    }\n",
       "\n",
       "    .dataframe thead th {\n",
       "        text-align: right;\n",
       "    }\n",
       "</style>\n",
       "<table border=\"1\" class=\"dataframe\">\n",
       "  <thead>\n",
       "    <tr style=\"text-align: right;\">\n",
       "      <th></th>\n",
       "      <th>age</th>\n",
       "      <th>gender</th>\n",
       "      <th>bmi</th>\n",
       "      <th>children</th>\n",
       "      <th>smoker</th>\n",
       "      <th>region</th>\n",
       "      <th>medical_history</th>\n",
       "      <th>family_medical_history</th>\n",
       "      <th>exercise_frequency</th>\n",
       "      <th>occupation</th>\n",
       "      <th>coverage_level</th>\n",
       "      <th>charges</th>\n",
       "    </tr>\n",
       "  </thead>\n",
       "  <tbody>\n",
       "    <tr>\n",
       "      <th>0</th>\n",
       "      <td>46</td>\n",
       "      <td>male</td>\n",
       "      <td>21.45</td>\n",
       "      <td>5</td>\n",
       "      <td>yes</td>\n",
       "      <td>southeast</td>\n",
       "      <td>Diabetes</td>\n",
       "      <td>None</td>\n",
       "      <td>Never</td>\n",
       "      <td>Blue collar</td>\n",
       "      <td>Premium</td>\n",
       "      <td>20460.307669</td>\n",
       "    </tr>\n",
       "    <tr>\n",
       "      <th>1</th>\n",
       "      <td>25</td>\n",
       "      <td>female</td>\n",
       "      <td>25.38</td>\n",
       "      <td>2</td>\n",
       "      <td>yes</td>\n",
       "      <td>northwest</td>\n",
       "      <td>Diabetes</td>\n",
       "      <td>High blood pressure</td>\n",
       "      <td>Occasionally</td>\n",
       "      <td>White collar</td>\n",
       "      <td>Premium</td>\n",
       "      <td>20390.899218</td>\n",
       "    </tr>\n",
       "    <tr>\n",
       "      <th>2</th>\n",
       "      <td>38</td>\n",
       "      <td>male</td>\n",
       "      <td>44.88</td>\n",
       "      <td>2</td>\n",
       "      <td>yes</td>\n",
       "      <td>southwest</td>\n",
       "      <td>None</td>\n",
       "      <td>High blood pressure</td>\n",
       "      <td>Occasionally</td>\n",
       "      <td>Blue collar</td>\n",
       "      <td>Premium</td>\n",
       "      <td>20204.476302</td>\n",
       "    </tr>\n",
       "    <tr>\n",
       "      <th>3</th>\n",
       "      <td>25</td>\n",
       "      <td>male</td>\n",
       "      <td>19.89</td>\n",
       "      <td>0</td>\n",
       "      <td>no</td>\n",
       "      <td>northwest</td>\n",
       "      <td>None</td>\n",
       "      <td>Diabetes</td>\n",
       "      <td>Rarely</td>\n",
       "      <td>White collar</td>\n",
       "      <td>Standard</td>\n",
       "      <td>11789.029843</td>\n",
       "    </tr>\n",
       "    <tr>\n",
       "      <th>4</th>\n",
       "      <td>49</td>\n",
       "      <td>male</td>\n",
       "      <td>38.21</td>\n",
       "      <td>3</td>\n",
       "      <td>yes</td>\n",
       "      <td>northwest</td>\n",
       "      <td>Diabetes</td>\n",
       "      <td>High blood pressure</td>\n",
       "      <td>Rarely</td>\n",
       "      <td>White collar</td>\n",
       "      <td>Standard</td>\n",
       "      <td>19268.309838</td>\n",
       "    </tr>\n",
       "  </tbody>\n",
       "</table>\n",
       "</div>"
      ],
      "text/plain": [
       "   age  gender    bmi  children smoker     region medical_history  \\\n",
       "0   46    male  21.45         5    yes  southeast        Diabetes   \n",
       "1   25  female  25.38         2    yes  northwest        Diabetes   \n",
       "2   38    male  44.88         2    yes  southwest            None   \n",
       "3   25    male  19.89         0     no  northwest            None   \n",
       "4   49    male  38.21         3    yes  northwest        Diabetes   \n",
       "\n",
       "  family_medical_history exercise_frequency    occupation coverage_level  \\\n",
       "0                   None              Never   Blue collar        Premium   \n",
       "1    High blood pressure       Occasionally  White collar        Premium   \n",
       "2    High blood pressure       Occasionally   Blue collar        Premium   \n",
       "3               Diabetes             Rarely  White collar       Standard   \n",
       "4    High blood pressure             Rarely  White collar       Standard   \n",
       "\n",
       "        charges  \n",
       "0  20460.307669  \n",
       "1  20390.899218  \n",
       "2  20204.476302  \n",
       "3  11789.029843  \n",
       "4  19268.309838  "
      ]
     },
     "execution_count": 65,
     "metadata": {},
     "output_type": "execute_result"
    }
   ],
   "source": [
    "df.head()"
   ]
  },
  {
   "cell_type": "code",
   "execution_count": 17,
   "id": "9eaa4cc2",
   "metadata": {},
   "outputs": [],
   "source": [
    "#StandardScaler with Target encoder\n",
    "\n",
    "X_train, X_test, y_train, y_test = train_test_split(X, y, test_size=0.3, random_state=42)\n",
    "for i in cat_cols:\n",
    "    X_train[i]=TargetEncoder(cols=i).fit_transform(X_train[i],y_train)\n",
    "    X_test[i]=TargetEncoder(cols=i).fit_transform(X_test[i],y_test)\n",
    "\n",
    "scaler=StandardScaler()\n",
    "for i in X_train.columns:\n",
    "    X_train[i]=scaler.fit_transform(X_train[[i]])\n",
    "    X_test[i]=scaler.fit_transform(X_test[[i]])"
   ]
  },
  {
   "cell_type": "code",
   "execution_count": 67,
   "id": "cb3e3ea6",
   "metadata": {},
   "outputs": [
    {
     "data": {
      "text/html": [
       "<div>\n",
       "<style scoped>\n",
       "    .dataframe tbody tr th:only-of-type {\n",
       "        vertical-align: middle;\n",
       "    }\n",
       "\n",
       "    .dataframe tbody tr th {\n",
       "        vertical-align: top;\n",
       "    }\n",
       "\n",
       "    .dataframe thead th {\n",
       "        text-align: right;\n",
       "    }\n",
       "</style>\n",
       "<table border=\"1\" class=\"dataframe\">\n",
       "  <thead>\n",
       "    <tr style=\"text-align: right;\">\n",
       "      <th></th>\n",
       "      <th>age</th>\n",
       "      <th>gender</th>\n",
       "      <th>bmi</th>\n",
       "      <th>children</th>\n",
       "      <th>smoker</th>\n",
       "      <th>region</th>\n",
       "      <th>medical_history</th>\n",
       "      <th>family_medical_history</th>\n",
       "      <th>exercise_frequency</th>\n",
       "      <th>occupation</th>\n",
       "      <th>coverage_level</th>\n",
       "    </tr>\n",
       "  </thead>\n",
       "  <tbody>\n",
       "    <tr>\n",
       "      <th>506532</th>\n",
       "      <td>1.408538</td>\n",
       "      <td>0.999429</td>\n",
       "      <td>-1.091727</td>\n",
       "      <td>-0.878290</td>\n",
       "      <td>0.999977</td>\n",
       "      <td>-0.647330</td>\n",
       "      <td>1.602122</td>\n",
       "      <td>-1.067057</td>\n",
       "      <td>-1.172323</td>\n",
       "      <td>1.269156</td>\n",
       "      <td>-1.136323</td>\n",
       "    </tr>\n",
       "    <tr>\n",
       "      <th>327991</th>\n",
       "      <td>0.325856</td>\n",
       "      <td>0.999429</td>\n",
       "      <td>-0.492809</td>\n",
       "      <td>-0.878290</td>\n",
       "      <td>0.999977</td>\n",
       "      <td>1.624076</td>\n",
       "      <td>-1.065877</td>\n",
       "      <td>0.000768</td>\n",
       "      <td>1.520166</td>\n",
       "      <td>0.629683</td>\n",
       "      <td>1.297967</td>\n",
       "    </tr>\n",
       "    <tr>\n",
       "      <th>715937</th>\n",
       "      <td>0.542392</td>\n",
       "      <td>-1.000572</td>\n",
       "      <td>0.427770</td>\n",
       "      <td>-0.878290</td>\n",
       "      <td>0.999977</td>\n",
       "      <td>1.624076</td>\n",
       "      <td>0.002743</td>\n",
       "      <td>1.603918</td>\n",
       "      <td>-1.172323</td>\n",
       "      <td>1.269156</td>\n",
       "      <td>1.297967</td>\n",
       "    </tr>\n",
       "    <tr>\n",
       "      <th>860726</th>\n",
       "      <td>0.325856</td>\n",
       "      <td>-1.000572</td>\n",
       "      <td>0.342210</td>\n",
       "      <td>1.464698</td>\n",
       "      <td>0.999977</td>\n",
       "      <td>-0.969065</td>\n",
       "      <td>1.602122</td>\n",
       "      <td>1.603918</td>\n",
       "      <td>-1.172323</td>\n",
       "      <td>0.629683</td>\n",
       "      <td>-1.136323</td>\n",
       "    </tr>\n",
       "    <tr>\n",
       "      <th>78617</th>\n",
       "      <td>-0.468111</td>\n",
       "      <td>0.999429</td>\n",
       "      <td>0.335712</td>\n",
       "      <td>-1.464037</td>\n",
       "      <td>0.999977</td>\n",
       "      <td>-0.969065</td>\n",
       "      <td>1.602122</td>\n",
       "      <td>1.603918</td>\n",
       "      <td>-1.172323</td>\n",
       "      <td>1.269156</td>\n",
       "      <td>-1.136323</td>\n",
       "    </tr>\n",
       "    <tr>\n",
       "      <th>...</th>\n",
       "      <td>...</td>\n",
       "      <td>...</td>\n",
       "      <td>...</td>\n",
       "      <td>...</td>\n",
       "      <td>...</td>\n",
       "      <td>...</td>\n",
       "      <td>...</td>\n",
       "      <td>...</td>\n",
       "      <td>...</td>\n",
       "      <td>...</td>\n",
       "      <td>...</td>\n",
       "    </tr>\n",
       "    <tr>\n",
       "      <th>259178</th>\n",
       "      <td>0.325856</td>\n",
       "      <td>0.999429</td>\n",
       "      <td>-0.118080</td>\n",
       "      <td>0.878951</td>\n",
       "      <td>-1.000023</td>\n",
       "      <td>-0.647330</td>\n",
       "      <td>0.002743</td>\n",
       "      <td>-1.067057</td>\n",
       "      <td>-0.531237</td>\n",
       "      <td>-0.627781</td>\n",
       "      <td>-1.136323</td>\n",
       "    </tr>\n",
       "    <tr>\n",
       "      <th>365838</th>\n",
       "      <td>-0.901184</td>\n",
       "      <td>0.999429</td>\n",
       "      <td>0.531741</td>\n",
       "      <td>-0.292543</td>\n",
       "      <td>0.999977</td>\n",
       "      <td>1.624076</td>\n",
       "      <td>-0.538616</td>\n",
       "      <td>0.000768</td>\n",
       "      <td>1.520166</td>\n",
       "      <td>-0.627781</td>\n",
       "      <td>1.297967</td>\n",
       "    </tr>\n",
       "    <tr>\n",
       "      <th>131932</th>\n",
       "      <td>1.697253</td>\n",
       "      <td>0.999429</td>\n",
       "      <td>-0.537214</td>\n",
       "      <td>-0.878290</td>\n",
       "      <td>-1.000023</td>\n",
       "      <td>-0.647330</td>\n",
       "      <td>-0.538616</td>\n",
       "      <td>0.000768</td>\n",
       "      <td>0.179681</td>\n",
       "      <td>-0.627781</td>\n",
       "      <td>-0.155230</td>\n",
       "    </tr>\n",
       "    <tr>\n",
       "      <th>671155</th>\n",
       "      <td>0.037140</td>\n",
       "      <td>0.999429</td>\n",
       "      <td>0.082282</td>\n",
       "      <td>-0.292543</td>\n",
       "      <td>-1.000023</td>\n",
       "      <td>-0.010458</td>\n",
       "      <td>-1.065877</td>\n",
       "      <td>-0.537130</td>\n",
       "      <td>-1.172323</td>\n",
       "      <td>1.269156</td>\n",
       "      <td>-0.155230</td>\n",
       "    </tr>\n",
       "    <tr>\n",
       "      <th>121958</th>\n",
       "      <td>-1.189900</td>\n",
       "      <td>-1.000572</td>\n",
       "      <td>-0.881619</td>\n",
       "      <td>0.293204</td>\n",
       "      <td>0.999977</td>\n",
       "      <td>-0.969065</td>\n",
       "      <td>0.002743</td>\n",
       "      <td>-0.537130</td>\n",
       "      <td>-0.531237</td>\n",
       "      <td>-0.627781</td>\n",
       "      <td>1.297967</td>\n",
       "    </tr>\n",
       "  </tbody>\n",
       "</table>\n",
       "<p>700000 rows × 11 columns</p>\n",
       "</div>"
      ],
      "text/plain": [
       "             age    gender       bmi  children    smoker    region  \\\n",
       "506532  1.408538  0.999429 -1.091727 -0.878290  0.999977 -0.647330   \n",
       "327991  0.325856  0.999429 -0.492809 -0.878290  0.999977  1.624076   \n",
       "715937  0.542392 -1.000572  0.427770 -0.878290  0.999977  1.624076   \n",
       "860726  0.325856 -1.000572  0.342210  1.464698  0.999977 -0.969065   \n",
       "78617  -0.468111  0.999429  0.335712 -1.464037  0.999977 -0.969065   \n",
       "...          ...       ...       ...       ...       ...       ...   \n",
       "259178  0.325856  0.999429 -0.118080  0.878951 -1.000023 -0.647330   \n",
       "365838 -0.901184  0.999429  0.531741 -0.292543  0.999977  1.624076   \n",
       "131932  1.697253  0.999429 -0.537214 -0.878290 -1.000023 -0.647330   \n",
       "671155  0.037140  0.999429  0.082282 -0.292543 -1.000023 -0.010458   \n",
       "121958 -1.189900 -1.000572 -0.881619  0.293204  0.999977 -0.969065   \n",
       "\n",
       "        medical_history  family_medical_history  exercise_frequency  \\\n",
       "506532         1.602122               -1.067057           -1.172323   \n",
       "327991        -1.065877                0.000768            1.520166   \n",
       "715937         0.002743                1.603918           -1.172323   \n",
       "860726         1.602122                1.603918           -1.172323   \n",
       "78617          1.602122                1.603918           -1.172323   \n",
       "...                 ...                     ...                 ...   \n",
       "259178         0.002743               -1.067057           -0.531237   \n",
       "365838        -0.538616                0.000768            1.520166   \n",
       "131932        -0.538616                0.000768            0.179681   \n",
       "671155        -1.065877               -0.537130           -1.172323   \n",
       "121958         0.002743               -0.537130           -0.531237   \n",
       "\n",
       "        occupation  coverage_level  \n",
       "506532    1.269156       -1.136323  \n",
       "327991    0.629683        1.297967  \n",
       "715937    1.269156        1.297967  \n",
       "860726    0.629683       -1.136323  \n",
       "78617     1.269156       -1.136323  \n",
       "...            ...             ...  \n",
       "259178   -0.627781       -1.136323  \n",
       "365838   -0.627781        1.297967  \n",
       "131932   -0.627781       -0.155230  \n",
       "671155    1.269156       -0.155230  \n",
       "121958   -0.627781        1.297967  \n",
       "\n",
       "[700000 rows x 11 columns]"
      ]
     },
     "execution_count": 67,
     "metadata": {},
     "output_type": "execute_result"
    }
   ],
   "source": [
    "X_train"
   ]
  },
  {
   "cell_type": "code",
   "execution_count": 18,
   "id": "d15b16ec",
   "metadata": {},
   "outputs": [
    {
     "name": "stdout",
     "output_type": "stream",
     "text": [
      "Test accuracy  0.9956743760002968\n",
      "Train accuracy  0.9957211614284267\n"
     ]
    }
   ],
   "source": [
    "test_model=lr.fit(X_train,y_train)\n",
    "train_model=lr.fit(X_test,y_test)\n",
    "\n",
    "test_pred=test_model.predict(X_test)\n",
    "train_pred=train_model.predict(X_train)\n",
    "print(\"Test accuracy \",r2_score(y_test,test_pred))\n",
    "print(\"Train accuracy \",r2_score(y_train,train_pred))"
   ]
  },
  {
   "cell_type": "code",
   "execution_count": 32,
   "id": "df9f8536",
   "metadata": {},
   "outputs": [
    {
     "data": {
      "image/png": "[encoded data removed]",
      "text/plain": [
       "<Figure size 800x600 with 1 Axes>"
      ]
     },
     "metadata": {},
     "output_type": "display_data"
    }
   ],
   "source": [
    "\n",
    "# Calculate residuals\n",
    "residuals = [actual - predicted for actual, predicted in zip(y_test, test_pred)]\n",
    "\n",
    "# Create scatter plot\n",
    "plt.figure(figsize=(8, 6))\n",
    "plt.scatter(range(len(residuals)), residuals, color='blue', alpha=0.7)\n",
    "plt.axhline(y=0, color='red', linestyle='--')  # Add horizontal line at y=0 for reference\n",
    "plt.title('Residual Plot')\n",
    "plt.xlabel('Sample Index')\n",
    "plt.ylabel('Residual (Actual - Predicted)')\n",
    "plt.grid(True)\n",
    "plt.show()\n"
   ]
  },
  {
   "cell_type": "code",
   "execution_count": 36,
   "id": "b1761799",
   "metadata": {},
   "outputs": [
    {
     "name": "stdout",
     "output_type": "stream",
     "text": [
      "Mean Absolute Percentage Error (MAPE): 1.62%\n"
     ]
    }
   ],
   "source": [
    "def calculate_mape(actual, predicted):\n",
    "    \"\"\"\n",
    "    Calculate Mean Absolute Percentage Error (MAPE) between actual and predicted values.\n",
    "\n",
    "    Parameters:\n",
    "    actual : array-like, shape (n_samples,)\n",
    "        Array containing actual values.\n",
    "    predicted : array-like, shape (n_samples,)\n",
    "        Array containing predicted values.\n",
    "\n",
    "    Returns:\n",
    "    mape : float\n",
    "        Mean Absolute Percentage Error (MAPE) value.\n",
    "    \"\"\"\n",
    "    # Ensure actual and predicted arrays have the same length\n",
    "    if len(actual) != len(predicted):\n",
    "        raise ValueError(\"Length of actual and predicted arrays must be the same.\")\n",
    "\n",
    "    # Calculate absolute percentage error for each sample\n",
    "    ape = abs((actual - predicted) / actual)\n",
    "\n",
    "    # Calculate mean absolute percentage error\n",
    "    mape = ape.mean() * 100\n",
    "\n",
    "    return mape\n",
    "\n",
    "# usage:\n",
    "mape = calculate_mape(y_test, test_pred)\n",
    "print(\"Mean Absolute Percentage Error (MAPE): {:.2f}%\".format(mape))\n"
   ]
  },
  {
   "cell_type": "code",
   "execution_count": 47,
   "id": "4a42006b",
   "metadata": {},
   "outputs": [],
   "source": [
    "#Dummy variables\n",
    "cat_cols\n",
    "x1=pd.get_dummies(df['gender'],drop_first=True)\n",
    "x2=pd.get_dummies(df['smoker'],drop_first=True)\n",
    "x3=pd.get_dummies(df['region'],drop_first=True)\n",
    "x4=pd.get_dummies(df['medical_history'],drop_first=True)\n",
    "x5=pd.get_dummies(df['family_medical_history'],drop_first=True)\n",
    "x6=pd.get_dummies(df['exercise_frequency'],drop_first=True)\n",
    "x7=pd.get_dummies(df['occupation'],drop_first=True)\n",
    "x8=pd.get_dummies(df['coverage_level'],drop_first=True)"
   ]
  },
  {
   "cell_type": "code",
   "execution_count": 48,
   "id": "bd078a20",
   "metadata": {},
   "outputs": [],
   "source": [
    "X_new=X.copy()\n",
    "X_new=pd.concat([X_new,x1,x2,x3,x4,x5,x6,x7,x8],axis=1)"
   ]
  },
  {
   "cell_type": "code",
   "execution_count": 49,
   "id": "566312ed",
   "metadata": {},
   "outputs": [],
   "source": [
    "for i in cat_cols:\n",
    "    X_new.drop(i,axis=1,inplace=True)"
   ]
  },
  {
   "cell_type": "code",
   "execution_count": 50,
   "id": "dcdf17b0",
   "metadata": {},
   "outputs": [],
   "source": [
    "X_train, X_test, y_train, y_test = train_test_split(X_new, y, test_size=0.3, random_state=42)"
   ]
  },
  {
   "cell_type": "code",
   "execution_count": 51,
   "id": "c9b40a39",
   "metadata": {},
   "outputs": [
    {
     "data": {
      "text/plain": [
       "0.9957029537538556"
      ]
     },
     "execution_count": 51,
     "metadata": {},
     "output_type": "execute_result"
    }
   ],
   "source": [
    "lr=LinearRegression()\n",
    "lr.fit(X_train,y_train)\n",
    "pred=lr.predict(X_test)\n",
    "r2_score(y_test,pred)"
   ]
  },
  {
   "cell_type": "code",
   "execution_count": 52,
   "id": "4a162156",
   "metadata": {},
   "outputs": [
    {
     "name": "stdout",
     "output_type": "stream",
     "text": [
      "Mean Absolute Percentage Error (MAPE): 1.62%\n"
     ]
    }
   ],
   "source": [
    "def calculate_mape(actual, predicted):\n",
    "    \"\"\"\n",
    "    Calculate Mean Absolute Percentage Error (MAPE) between actual and predicted values.\n",
    "\n",
    "    Parameters:\n",
    "    actual : array-like, shape (n_samples,)\n",
    "        Array containing actual values.\n",
    "    predicted : array-like, shape (n_samples,)\n",
    "        Array containing predicted values.\n",
    "\n",
    "    Returns:\n",
    "    mape : float\n",
    "        Mean Absolute Percentage Error (MAPE) value.\n",
    "    \"\"\"\n",
    "    # Ensure actual and predicted arrays have the same length\n",
    "    if len(actual) != len(predicted):\n",
    "        raise ValueError(\"Length of actual and predicted arrays must be the same.\")\n",
    "\n",
    "    # Calculate absolute percentage error for each sample\n",
    "    ape = abs((actual - predicted) / actual)\n",
    "\n",
    "    # Calculate mean absolute percentage error\n",
    "    mape = ape.mean() * 100\n",
    "\n",
    "    return mape\n",
    "\n",
    "# usage:\n",
    "mape = calculate_mape(y_test, pred)\n",
    "print(\"Mean Absolute Percentage Error (MAPE): {:.2f}%\".format(mape))\n"
   ]
  },
  {
   "cell_type": "code",
   "execution_count": 209,
   "id": "d57fc3a0",
   "metadata": {},
   "outputs": [],
   "source": [
    "all_cols=['age', 'gender', 'bmi', 'children', 'smoker', 'region',\n",
    "       'medical_history', 'family_medical_history', 'exercise_frequency',\n",
    "       'occupation', 'coverage_level']"
   ]
  },
  {
   "cell_type": "code",
   "execution_count": 213,
   "id": "cb84ea64",
   "metadata": {},
   "outputs": [],
   "source": [
    "X_train, X_test, y_train, y_test = train_test_split(X, y, test_size=0.3, random_state=42)\n",
    "num_pipeline=Pipeline(\n",
    "                steps=[\n",
    "                    (\"Imputer\",SimpleImputer(strategy='mean'))\n",
    "                ]\n",
    "            )\n",
    "cat_pipeline=Pipeline(\n",
    "                steps=[\n",
    "                    ('TargetEncoder',TargetEncoder(cols=cat_cols)),\n",
    "                ]\n",
    "            )\n",
    "stan_pipeline=Pipeline(\n",
    "                steps=[\n",
    "                    (\"Standardization\",StandardScaler(with_mean=False))\n",
    "                ]\n",
    "            )\n",
    "preprocessor=ColumnTransformer([\n",
    "                ('num_pipeline',num_pipeline,num_cols),\n",
    "                ('cat_pipeline',cat_pipeline,cat_cols),\n",
    "            ])\n",
    "\n",
    "X_train_scaled=preprocessor.fit_transform(X_train,y_train)\n",
    "X_test_scaled=preprocessor.fit_transform(X_test,y_test)"
   ]
  },
  {
   "cell_type": "code",
   "execution_count": 212,
   "id": "43dd534f",
   "metadata": {},
   "outputs": [
    {
     "data": {
      "text/plain": [
       "array([[6.10000000e+01, 2.39200000e+01, 1.00000000e+00, ...,\n",
       "        1.58672908e+04, 1.77348720e+04, 1.43971166e+04],\n",
       "       [4.60000000e+01, 2.94500000e+01, 1.00000000e+00, ...,\n",
       "        1.78563146e+04, 1.72302337e+04, 1.94018552e+04],\n",
       "       [4.90000000e+01, 3.79500000e+01, 1.00000000e+00, ...,\n",
       "        1.58672908e+04, 1.77348720e+04, 1.94018552e+04],\n",
       "       ...,\n",
       "       [6.50000000e+01, 2.90400000e+01, 1.00000000e+00, ...,\n",
       "        1.68660577e+04, 1.62379102e+04, 1.64141786e+04],\n",
       "       [4.20000000e+01, 3.47600000e+01, 2.00000000e+00, ...,\n",
       "        1.58672908e+04, 1.77348720e+04, 1.64141786e+04],\n",
       "       [2.50000000e+01, 2.58600000e+01, 3.00000000e+00, ...,\n",
       "        1.63408807e+04, 1.62379102e+04, 1.94018552e+04]])"
      ]
     },
     "execution_count": 212,
     "metadata": {},
     "output_type": "execute_result"
    }
   ],
   "source": [
    "ColumnTransformer([\n",
    "    ('stan_pipeline',stan_pipeline)\n",
    "]).fit_transform()"
   ]
  },
  {
   "cell_type": "code",
   "execution_count": 199,
   "id": "c1967686",
   "metadata": {},
   "outputs": [
    {
     "data": {
      "text/plain": [
       "0.8317490963637093"
      ]
     },
     "execution_count": 199,
     "metadata": {},
     "output_type": "execute_result"
    }
   ],
   "source": [
    "lr.fit(X_train_scaled,y_train)\n",
    "pred=lr.predict(X_test_scaled)\n",
    "r2_score(y_test,pred)"
   ]
  },
  {
   "cell_type": "code",
   "execution_count": 128,
   "id": "ac1e48a0",
   "metadata": {},
   "outputs": [],
   "source": [
    "#StandardScaler with Target encoder\n",
    "\n",
    "X_train, X_test, y_train, y_test = train_test_split(X, y, test_size=0.3, random_state=42)\n",
    "for i in cat_cols:\n",
    "    X_train[i]=TargetEncoder(cols=i).fit_transform(X_train[i],y_train)\n",
    "    X_test[i]=TargetEncoder(cols=i).fit_transform(X_test[i],y_test)\n",
    "\n",
    "scaler=StandardScaler()\n",
    "for i in X_train.columns:\n",
    "    X_train[i]=scaler.fit_transform(X_train[[i]])\n",
    "    X_test[i]=scaler.fit_transform(X_test[[i]])"
   ]
  },
  {
   "cell_type": "code",
   "execution_count": 129,
   "id": "144605dd",
   "metadata": {},
   "outputs": [
    {
     "data": {
      "text/plain": [
       "0.9934952604565764"
      ]
     },
     "execution_count": 129,
     "metadata": {},
     "output_type": "execute_result"
    }
   ],
   "source": [
    "rfr=RandomForestRegressor()\n",
    "rfr.fit(X_train,y_train)\n",
    "pred=rfr.predict(X_test)\n",
    "r2_score(y_test,pred)"
   ]
  },
  {
   "cell_type": "code",
   "execution_count": 130,
   "id": "6826bf6d",
   "metadata": {},
   "outputs": [
    {
     "data": {
      "text/plain": [
       "0.9862269823326211"
      ]
     },
     "execution_count": 130,
     "metadata": {},
     "output_type": "execute_result"
    }
   ],
   "source": [
    "dtree=DecisionTreeRegressor()\n",
    "dtree.fit(X_train,y_train)\n",
    "pred=dtree.predict(X_test)\n",
    "r2_score(y_test,pred)"
   ]
  },
  {
   "cell_type": "code",
   "execution_count": 131,
   "id": "d8d10f66",
   "metadata": {},
   "outputs": [],
   "source": [
    "from sklearn.impute import SimpleImputer\n",
    "X_train, X_test, y_train, y_test = train_test_split(X, y, test_size=0.3, random_state=42)"
   ]
  },
  {
   "cell_type": "code",
   "execution_count": 172,
   "id": "3053f320",
   "metadata": {},
   "outputs": [],
   "source": [
    "cat_transformer=Pipeline(steps=[\n",
    "    ('target_encoder', TargetEncoder(cols=cat_cols)),\n",
    "    (\"StandardScaler\",StandardScaler(with_mean=False))\n",
    "])\n",
    "'''num_transformer = Pipeline(steps=[\n",
    "    ('scaler', StandardScaler())\n",
    "])'''\n",
    "\n",
    "preprocessor = ColumnTransformer(\n",
    "    transformers=[\n",
    "        ('cat', cat_transformer, cat_cols),\n",
    "  #      ('num', num_transformer, num_cols)\n",
    "    ])"
   ]
  },
  {
   "cell_type": "code",
   "execution_count": 173,
   "id": "3ffe5390",
   "metadata": {},
   "outputs": [
    {
     "data": {
      "text/plain": [
       "array([[33.95863216,  7.6808103 , 52.90146197, ..., 21.47913618,\n",
       "        22.47347896,  7.00271497],\n",
       "       [33.95863216,  7.6808103 , 55.17286798, ..., 24.17162562,\n",
       "        21.83400569,  9.43700504],\n",
       "       [31.95863184,  7.6808103 , 55.17286798, ..., 21.47913618,\n",
       "        22.47347896,  9.43700504],\n",
       "       ...,\n",
       "       [33.95863216,  5.6808103 , 52.90146197, ..., 22.83114076,\n",
       "        20.57654168,  7.98380798],\n",
       "       [33.95863216,  5.6808103 , 53.5383337 , ..., 21.47913618,\n",
       "        22.47347896,  7.98380798],\n",
       "       [31.95863184,  7.6808103 , 52.57972672, ..., 22.12022247,\n",
       "        20.57654168,  9.43700504]])"
      ]
     },
     "execution_count": 173,
     "metadata": {},
     "output_type": "execute_result"
    }
   ],
   "source": [
    "preprocessor.fit_transform(X_train,y_train)"
   ]
  },
  {
   "cell_type": "code",
   "execution_count": 179,
   "id": "9a017cc9",
   "metadata": {},
   "outputs": [
    {
     "data": {
      "text/plain": [
       "array([[3.54151292e+01, 5.72168997e+00, 5.54199916e+01, ...,\n",
       "        2.25915502e+01, 7.96570457e+00, 1.38893331e+04],\n",
       "       [3.54151292e+01, 7.72169062e+00, 5.69611971e+01, ...,\n",
       "        2.19632617e+01, 7.96570457e+00, 2.07480199e+04],\n",
       "       [3.34151288e+01, 5.72168997e+00, 5.44041147e+01, ...,\n",
       "        2.06808885e+01, 9.41905111e+00, 1.73292831e+04],\n",
       "       ...,\n",
       "       [3.54151292e+01, 7.72169062e+00, 5.46418557e+01, ...,\n",
       "        2.19632617e+01, 6.98322554e+00, 2.08065678e+04],\n",
       "       [3.34151288e+01, 7.72169062e+00, 5.69611971e+01, ...,\n",
       "        2.19632617e+01, 9.41905111e+00, 1.86795551e+04],\n",
       "       [3.34151288e+01, 5.72168997e+00, 5.44041147e+01, ...,\n",
       "        2.19632617e+01, 7.96570457e+00, 1.52196131e+04]])"
      ]
     },
     "execution_count": 179,
     "metadata": {},
     "output_type": "execute_result"
    }
   ],
   "source": [
    "np.c_[preprocessor.fit_transform(X_test,y_test),np.array(y_test)]"
   ]
  },
  {
   "cell_type": "code",
   "execution_count": 180,
   "id": "8b1731c9",
   "metadata": {},
   "outputs": [
    {
     "data": {
      "text/plain": [
       "array([[3.39586322e+01, 7.68081030e+00, 5.29014620e+01, ...,\n",
       "        2.24734790e+01, 7.00271497e+00, 1.76910880e+04],\n",
       "       [3.39586322e+01, 7.68081030e+00, 5.51728680e+01, ...,\n",
       "        2.18340057e+01, 9.43700504e+00, 2.20827759e+04],\n",
       "       [3.19586318e+01, 7.68081030e+00, 5.51728680e+01, ...,\n",
       "        2.24734790e+01, 9.43700504e+00, 2.49003235e+04],\n",
       "       ...,\n",
       "       [3.39586322e+01, 5.68081030e+00, 5.29014620e+01, ...,\n",
       "        2.05765417e+01, 7.98380798e+00, 1.30322842e+04],\n",
       "       [3.39586322e+01, 5.68081030e+00, 5.35383337e+01, ...,\n",
       "        2.24734790e+01, 7.98380798e+00, 1.13608839e+04],\n",
       "       [3.19586318e+01, 7.68081030e+00, 5.25797267e+01, ...,\n",
       "        2.05765417e+01, 9.43700504e+00, 1.89841946e+04]])"
      ]
     },
     "execution_count": 180,
     "metadata": {},
     "output_type": "execute_result"
    }
   ],
   "source": [
    "np.c_[preprocessor.fit_transform(X_train,y_train),np.array(y_train)]"
   ]
  }
 ],
 "metadata": {
  "kernelspec": {
   "display_name": "Python 3 (ipykernel)",
   "language": "python",
   "name": "python3"
  },
  "language_info": {
   "codemirror_mode": {
    "name": "ipython",
    "version": 3
   },
   "file_extension": ".py",
   "mimetype": "text/x-python",
   "name": "python",
   "nbconvert_exporter": "python",
   "pygments_lexer": "ipython3",
   "version": "3.10.9"
  }
 },
 "nbformat": 4,
 "nbformat_minor": 5
}
